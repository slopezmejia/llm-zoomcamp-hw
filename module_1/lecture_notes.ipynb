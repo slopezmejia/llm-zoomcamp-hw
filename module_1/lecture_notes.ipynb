{
 "cells": [
  {
   "cell_type": "code",
   "execution_count": 7,
   "metadata": {},
   "outputs": [],
   "source": [
    "import minsearch\n",
    "import json\n",
    "from openai import OpenAI"
   ]
  },
  {
   "cell_type": "code",
   "execution_count": 8,
   "metadata": {},
   "outputs": [],
   "source": [
    "with open('documents.json', 'rt') as f_in:\n",
    "    docs_raw = json.load(f_in)"
   ]
  },
  {
   "cell_type": "code",
   "execution_count": 9,
   "metadata": {},
   "outputs": [],
   "source": [
    "documents = []\n",
    "\n",
    "for course_dict in docs_raw:\n",
    "    for doc in course_dict['documents']:\n",
    "        doc['course'] = course_dict['course']\n",
    "        documents.append(doc)"
   ]
  },
  {
   "cell_type": "code",
   "execution_count": 10,
   "metadata": {},
   "outputs": [
    {
     "data": {
      "text/plain": [
       "{'text': \"The purpose of this document is to capture frequently asked technical questions\\nThe exact day and hour of the course will be 15th Jan 2024 at 17h00. The course will start with the first  “Office Hours'' live.1\\nSubscribe to course public Google Calendar (it works from Desktop only).\\nRegister before the course starts using this link.\\nJoin the course Telegram channel with announcements.\\nDon’t forget to register in DataTalks.Club's Slack and join the channel.\",\n",
       " 'section': 'General course-related questions',\n",
       " 'question': 'Course - When will the course start?',\n",
       " 'course': 'data-engineering-zoomcamp'}"
      ]
     },
     "execution_count": 10,
     "metadata": {},
     "output_type": "execute_result"
    }
   ],
   "source": [
    "documents[0]"
   ]
  },
  {
   "cell_type": "code",
   "execution_count": 11,
   "metadata": {},
   "outputs": [],
   "source": [
    "index = minsearch.Index(\n",
    "    text_fields=[\"question\", \"text\", \"section\"],\n",
    "    keyword_fields=[\"course\"]\n",
    ")"
   ]
  },
  {
   "cell_type": "code",
   "execution_count": 14,
   "metadata": {},
   "outputs": [],
   "source": [
    "q = 'the course has already started, can I still enroll?'"
   ]
  },
  {
   "cell_type": "code",
   "execution_count": 12,
   "metadata": {},
   "outputs": [
    {
     "data": {
      "text/plain": [
       "<minsearch.Index at 0x297fadb5c10>"
      ]
     },
     "execution_count": 12,
     "metadata": {},
     "output_type": "execute_result"
    }
   ],
   "source": [
    "index.fit(documents)"
   ]
  },
  {
   "cell_type": "code",
   "execution_count": 15,
   "metadata": {},
   "outputs": [
    {
     "name": "stdout",
     "output_type": "stream",
     "text": [
      "The classic \"late to the party\" question!\n",
      "\n",
      "While it's great that you're interested in taking the course, unfortunately, once a course has started, it's usually not possible to enroll late. Here's why:\n",
      "\n",
      "1. **Course structure**: Courses are often designed with a specific curriculum and schedule in mind. Enrolling after the course has started would require significant adjustments to the material, which might be challenging for both you and the instructor.\n",
      "2. **Class dynamics**: Joining a class midway can disrupt the existing group dynamic and interactions among students. This might affect your learning experience and the ability of your peers to engage with each other.\n",
      "3. **Instructor availability**: Instructors may not have the same level of availability or resources to support you in catching up, especially if they've already developed lesson plans and materials for the original course duration.\n",
      "\n",
      "That being said, it's always a good idea to reach out to the course instructor or program administrator to ask about their policies on late enrollment. They might be able to provide some guidance or alternatives, such as:\n",
      "\n",
      "1. **Provisional acceptance**: In some cases, an instructor may allow you to join the course with provisional acceptance, pending your ability to catch up and meet the original deadlines.\n",
      "2. **Alternative arrangements**: If there's a specific topic or module that interests you, the instructor might offer one-on-one sessions or provide additional resources outside of the regular class schedule.\n",
      "3. **Future enrollment**: You could ask about enrolling in future versions of the course, which would allow you to start fresh and work through the material with the rest of your peers.\n",
      "\n",
      "Remember to be respectful of the instructor's time and the existing students' investment in the course. If you do decide to reach out, make sure you're prepared to discuss how you plan to catch up and make the most of the experience.\n",
      "\n",
      "I hope this helps!\n"
     ]
    }
   ],
   "source": [
    "client = OpenAI(\n",
    "    base_url = 'http://localhost:11434/v1',\n",
    "    api_key='ollama', # required, but unused\n",
    ")\n",
    "\n",
    "response = client.chat.completions.create(\n",
    "    model='phi3',\n",
    "    messages=[{\"role\": \"user\", \"content\": q}]\n",
    ")\n",
    "\n",
    "response.choices[0].message.content\n",
    "print(response.choices[0].message.content)"
   ]
  },
  {
   "cell_type": "code",
   "execution_count": null,
   "metadata": {},
   "outputs": [],
   "source": [
    "from elasticsearch import Elasticsearch\n",
    "\n",
    "es = Elasticsearch(\"http://localhost:9200\")\n",
    "es.info()"
   ]
  }
 ],
 "metadata": {
  "kernelspec": {
   "display_name": "venv",
   "language": "python",
   "name": "python3"
  },
  "language_info": {
   "codemirror_mode": {
    "name": "ipython",
    "version": 3
   },
   "file_extension": ".py",
   "mimetype": "text/x-python",
   "name": "python",
   "nbconvert_exporter": "python",
   "pygments_lexer": "ipython3",
   "version": "3.12.4"
  }
 },
 "nbformat": 4,
 "nbformat_minor": 2
}
