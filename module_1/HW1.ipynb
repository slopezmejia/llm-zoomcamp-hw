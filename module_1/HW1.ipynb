{
  "cells": [
    {
      "cell_type": "code",
      "execution_count": null,
      "metadata": {
        "id": "CfQLwR6-jyMl"
      },
      "outputs": [],
      "source": [
        "!pip install tqdm notebook==7.1.2 openai elasticsearch pandas scikit-learn"
      ]
    },
    {
      "cell_type": "markdown",
      "metadata": {
        "id": "GDJGafvpRWSi"
      },
      "source": [
        "# Q1. Running Elastic\n",
        "Run Elastic Search 8.4.3, and get the cluster information. If you run it on localhost, this is how you do it:\n",
        "\n",
        "\n",
        "```\n",
        "curl localhost:9200\n",
        "```\n",
        "\n",
        "What's the `version.build_hash` value?"
      ]
    },
    {
      "cell_type": "markdown",
      "metadata": {
        "id": "6kXpvy6jUWLx"
      },
      "source": [
        "### Running ElasticSearch"
      ]
    },
    {
      "cell_type": "code",
      "execution_count": 1,
      "metadata": {},
      "outputs": [
        {
          "name": "stdout",
          "output_type": "stream",
          "text": [
            "dc20ed9d998f5a2d160489bbfef796253ffbb29c2e7a67a5404cf56e6ca7071b\n"
          ]
        }
      ],
      "source": [
        "!docker run -d --rm --name elasticsearch -p 9200:9200 -p 9300:9300 -e \"discovery.type=single-node\" -e \"xpack.security.enabled=false\" docker.elastic.co/elasticsearch/elasticsearch:8.4.3"
      ]
    },
    {
      "cell_type": "code",
      "execution_count": 3,
      "metadata": {},
      "outputs": [
        {
          "name": "stdout",
          "output_type": "stream",
          "text": [
            "{\n",
            "  \"name\" : \"dc20ed9d998f\",\n",
            "  \"cluster_name\" : \"docker-cluster\",\n",
            "  \"cluster_uuid\" : \"GHCuMFmvTgWWAHbUyim4Gw\",\n",
            "  \"version\" : {\n",
            "    \"number\" : \"8.4.3\",\n",
            "    \"build_flavor\" : \"default\",\n",
            "    \"build_type\" : \"docker\",\n",
            "    \"build_hash\" : \"42f05b9372a9a4a470db3b52817899b99a76ee73\",\n",
            "    \"build_date\" : \"2022-10-04T07:17:24.662462378Z\",\n",
            "    \"build_snapshot\" : false,\n",
            "    \"lucene_version\" : \"9.3.0\",\n",
            "    \"minimum_wire_compatibility_version\" : \"7.17.0\",\n",
            "    \"minimum_index_compatibility_version\" : \"7.0.0\"\n",
            "  },\n",
            "  \"tagline\" : \"You Know, for Search\"\n",
            "}\n"
          ]
        },
        {
          "name": "stderr",
          "output_type": "stream",
          "text": [
            "  % Total    % Received % Xferd  Average Speed   Time    Time     Time  Current\n",
            "                                 Dload  Upload   Total   Spent    Left  Speed\n",
            "\n",
            "  0     0    0     0    0     0      0      0 --:--:-- --:--:-- --:--:--     0\n",
            "100   539  100   539    0     0   7508      0 --:--:-- --:--:-- --:--:--  7591\n"
          ]
        }
      ],
      "source": [
        "!curl localhost:9200"
      ]
    },
    {
      "cell_type": "markdown",
      "metadata": {
        "id": "VVPmViLYUeSz"
      },
      "source": [
        "# Q2. Indexing the data\n",
        "## Getting the data\n",
        "Now let's get the FAQ data. You can run this snippet:"
      ]
    },
    {
      "cell_type": "code",
      "execution_count": 4,
      "metadata": {},
      "outputs": [],
      "source": [
        "import requests\n",
        "\n",
        "docs_url = 'https://github.com/DataTalksClub/llm-zoomcamp/blob/main/01-intro/documents.json?raw=1'\n",
        "docs_response = requests.get(docs_url)\n",
        "documents_raw = docs_response.json()\n",
        "\n",
        "documents = []\n",
        "\n",
        "for course in documents_raw:\n",
        "    course_name = course['course']\n",
        "\n",
        "    for doc in course['documents']:\n",
        "        doc['course'] = course_name\n",
        "        documents.append(doc)"
      ]
    },
    {
      "cell_type": "markdown",
      "metadata": {},
      "source": [
        "Note that you need to have the `requests` library:"
      ]
    },
    {
      "cell_type": "code",
      "execution_count": null,
      "metadata": {},
      "outputs": [],
      "source": [
        "!pip install requests"
      ]
    },
    {
      "cell_type": "code",
      "execution_count": 5,
      "metadata": {
        "id": "9sPQlJaPUarL"
      },
      "outputs": [
        {
          "data": {
            "text/plain": [
              "ObjectApiResponse({'name': 'dc20ed9d998f', 'cluster_name': 'docker-cluster', 'cluster_uuid': 'GHCuMFmvTgWWAHbUyim4Gw', 'version': {'number': '8.4.3', 'build_flavor': 'default', 'build_type': 'docker', 'build_hash': '42f05b9372a9a4a470db3b52817899b99a76ee73', 'build_date': '2022-10-04T07:17:24.662462378Z', 'build_snapshot': False, 'lucene_version': '9.3.0', 'minimum_wire_compatibility_version': '7.17.0', 'minimum_index_compatibility_version': '7.0.0'}, 'tagline': 'You Know, for Search'})"
            ]
          },
          "execution_count": 5,
          "metadata": {},
          "output_type": "execute_result"
        }
      ],
      "source": [
        "from elasticsearch import Elasticsearch\n",
        "\n",
        "es_client = Elasticsearch(\"http://localhost:9200\")\n",
        "es_client.info()"
      ]
    },
    {
      "cell_type": "code",
      "execution_count": 6,
      "metadata": {},
      "outputs": [
        {
          "data": {
            "text/plain": [
              "ObjectApiResponse({'acknowledged': True, 'shards_acknowledged': True, 'index': 'course-questions'})"
            ]
          },
          "execution_count": 6,
          "metadata": {},
          "output_type": "execute_result"
        }
      ],
      "source": [
        "index_settings = {\n",
        "    \"settings\": {\n",
        "        \"number_of_shards\": 1,\n",
        "        \"number_of_replicas\": 0\n",
        "    },\n",
        "    \"mappings\": {\n",
        "        \"properties\": {\n",
        "            \"text\": {\"type\": \"text\"},\n",
        "            \"section\": {\"type\": \"text\"},\n",
        "            \"question\": {\"type\": \"text\"},\n",
        "            \"course\": {\"type\": \"keyword\"} \n",
        "        }\n",
        "    }\n",
        "}\n",
        "\n",
        "index_name = \"course-questions\"\n",
        "\n",
        "es_client.indices.create(index=index_name, body=index_settings)"
      ]
    },
    {
      "cell_type": "code",
      "execution_count": 7,
      "metadata": {},
      "outputs": [
        {
          "name": "stderr",
          "output_type": "stream",
          "text": [
            "d:\\courses\\llm-zoomcamp-hw\\venv\\Lib\\site-packages\\tqdm\\auto.py:21: TqdmWarning: IProgress not found. Please update jupyter and ipywidgets. See https://ipywidgets.readthedocs.io/en/stable/user_install.html\n",
            "  from .autonotebook import tqdm as notebook_tqdm\n",
            "100%|██████████| 948/948 [00:48<00:00, 19.73it/s]\n"
          ]
        }
      ],
      "source": [
        "from tqdm.auto import tqdm\n",
        "for doc in tqdm(documents):\n",
        "    es_client.index(index=index_name, document=doc)"
      ]
    },
    {
      "cell_type": "markdown",
      "metadata": {},
      "source": [
        "# Q3. Searching\n",
        "Now let's search in our index.\n",
        "\n",
        "We will execute a query \"How do I execute a command in a running docker container?\".\n",
        "\n",
        "Use only `question` and `text` fields and give `question` a boost of 4, and use `\"type\": \"best_fields\"`.\n",
        "\n",
        "What's the score for the top ranking result?\n",
        "\n",
        "- 94.05\n",
        "- 84.05\n",
        "- 74.05\n",
        "- 64.05\n",
        "\n",
        "Look at the `_score field`."
      ]
    },
    {
      "cell_type": "code",
      "execution_count": 8,
      "metadata": {},
      "outputs": [],
      "source": [
        "query = \"How do I execute a command in a running docker container?\""
      ]
    },
    {
      "cell_type": "code",
      "execution_count": 9,
      "metadata": {},
      "outputs": [],
      "source": [
        "search_query_q3 = {\n",
        "        \"size\": 5,\n",
        "        \"query\": {\n",
        "            \"bool\": {\n",
        "                \"must\": {\n",
        "                    \"multi_match\": {\n",
        "                        \"query\": query,\n",
        "                        \"fields\": [\"question^4\", \"text\"],\n",
        "                        \"type\": \"best_fields\"\n",
        "                    }\n",
        "                }\n",
        "            }\n",
        "        }\n",
        "    }\n",
        "\n",
        "response = es_client.search(index=index_name, body=search_query_q3)"
      ]
    },
    {
      "cell_type": "code",
      "execution_count": null,
      "metadata": {},
      "outputs": [],
      "source": [
        "response['hits']['hits']"
      ]
    },
    {
      "cell_type": "code",
      "execution_count": 10,
      "metadata": {},
      "outputs": [
        {
          "data": {
            "text/plain": [
              "{'_index': 'course-questions',\n",
              " '_id': 'iTzjXpABinJoeCncQeRk',\n",
              " '_score': 84.050095,\n",
              " '_source': {'text': 'Launch the container image in interactive mode and overriding the entrypoint, so that it starts a bash command.\\ndocker run -it --entrypoint bash <image>\\nIf the container is already running, execute a command in the specific container:\\ndocker ps (find the container-id)\\ndocker exec -it <container-id> bash\\n(Marcos MJD)',\n",
              "  'section': '5. Deploying Machine Learning Models',\n",
              "  'question': 'How do I debug a docker container?',\n",
              "  'course': 'machine-learning-zoomcamp'}}"
            ]
          },
          "execution_count": 10,
          "metadata": {},
          "output_type": "execute_result"
        }
      ],
      "source": [
        "# Answer\n",
        "response['hits']['hits'][0]"
      ]
    },
    {
      "cell_type": "markdown",
      "metadata": {},
      "source": [
        "# Q4. Filtering\n",
        "Now let's only limit the questions to `machine-learning-zoomcamp`.\n",
        "\n",
        "Return 3 results. What's the 3rd question returned by the search engine?\n",
        "\n",
        "- How do I debug a docker container?\n",
        "- How do I copy files from a different folder into docker container’s working directory?\n",
        "- How do Lambda container images work?\n",
        "- How can I annotate a graph?"
      ]
    },
    {
      "cell_type": "code",
      "execution_count": 11,
      "metadata": {},
      "outputs": [],
      "source": [
        "search_query_q4 = {\n",
        "        \"size\": 3,\n",
        "        \"query\": {\n",
        "            \"bool\": {\n",
        "                \"must\": {\n",
        "                    \"multi_match\": {\n",
        "                        \"query\": query,\n",
        "                        \"fields\": [\"question^4\", \"text\"],\n",
        "                        \"type\": \"best_fields\"\n",
        "                    }\n",
        "                },\n",
        "                \"filter\": {\n",
        "                    \"term\": {\n",
        "                        \"course\": \"machine-learning-zoomcamp\"\n",
        "                    }\n",
        "                }\n",
        "            }\n",
        "        }\n",
        "    }\n",
        "\n",
        "response = es_client.search(index=index_name, body=search_query_q4)"
      ]
    },
    {
      "cell_type": "code",
      "execution_count": 12,
      "metadata": {},
      "outputs": [
        {
          "data": {
            "text/plain": [
              "{'_index': 'course-questions',\n",
              " '_id': 'qTzjXpABinJoeCncR-S4',\n",
              " '_score': 49.938507,\n",
              " '_source': {'text': 'You can copy files from your local machine into a Docker container using the docker cp command. Here\\'s how to do it:\\nIn the Dockerfile, you can provide the folder containing the files that you want to copy over. The basic syntax is as follows:\\nCOPY [\"src/predict.py\", \"models/xgb_model.bin\", \"./\"]\\t\\t\\t\\t\\t\\t\\t\\t\\t\\t\\tGopakumar Gopinathan',\n",
              "  'section': '5. Deploying Machine Learning Models',\n",
              "  'question': 'How do I copy files from a different folder into docker container’s working directory?',\n",
              "  'course': 'machine-learning-zoomcamp'}}"
            ]
          },
          "execution_count": 12,
          "metadata": {},
          "output_type": "execute_result"
        }
      ],
      "source": [
        "# Answer\n",
        "response['hits']['hits'][2]"
      ]
    },
    {
      "cell_type": "markdown",
      "metadata": {},
      "source": [
        "# Q5. Building a prompt\n",
        "Now we're ready to build a prompt to send to an LLM.\n",
        "\n",
        "Take the records returned from Elasticsearch in Q4 and use this template to build the context. Separate context entries by two linebreaks `(\\n\\n)`\n",
        "\n",
        "```\n",
        "context_template = \"\"\"\n",
        "Q: {question}\n",
        "A: {text}\n",
        "\"\"\".strip()\n",
        "\n",
        "```\n"
      ]
    },
    {
      "cell_type": "code",
      "execution_count": 13,
      "metadata": {},
      "outputs": [],
      "source": [
        "# Answer Q5.1: Context template\n",
        "context_template = \"\"\"\n",
        "Q: {question}\n",
        "A: {text}\n",
        "\"\"\".strip()"
      ]
    },
    {
      "cell_type": "code",
      "execution_count": 14,
      "metadata": {},
      "outputs": [
        {
          "name": "stdout",
          "output_type": "stream",
          "text": [
            "Q: How do I debug a docker container?\n",
            "A: Launch the container image in interactive mode and overriding the entrypoint, so that it starts a bash command.\n",
            "docker run -it --entrypoint bash <image>\n",
            "If the container is already running, execute a command in the specific container:\n",
            "docker ps (find the container-id)\n",
            "docker exec -it <container-id> bash\n",
            "(Marcos MJD)\n",
            "\n",
            "Q: How do I copy files from my local machine to docker container?\n",
            "A: You can copy files from your local machine into a Docker container using the docker cp command. Here's how to do it:\n",
            "To copy a file or directory from your local machine into a running Docker container, you can use the `docker cp command`. The basic syntax is as follows:\n",
            "docker cp /path/to/local/file_or_directory container_id:/path/in/container\n",
            "Hrithik Kumar Advani\n",
            "\n",
            "Q: How do I copy files from a different folder into docker container’s working directory?\n",
            "A: You can copy files from your local machine into a Docker container using the docker cp command. Here's how to do it:\n",
            "In the Dockerfile, you can provide the folder containing the files that you want to copy over. The basic syntax is as follows:\n",
            "COPY [\"src/predict.py\", \"models/xgb_model.bin\", \"./\"]\t\t\t\t\t\t\t\t\t\t\tGopakumar Gopinathan\n",
            "\n",
            "\n"
          ]
        }
      ],
      "source": [
        "context = \"\"\n",
        "for doc in response['hits']['hits']:\n",
        "    context = context + context_template.format(question=doc['_source']['question'],text=doc['_source']['text']).strip() + \"\\n\\n\"\n",
        "\n",
        "print(context)"
      ]
    },
    {
      "cell_type": "markdown",
      "metadata": {},
      "source": [
        "Now use the context you just created along with the \"How do I execute a command in a running docker container?\" question to construct a prompt using the template below:\n",
        "```\n",
        "prompt_template = \"\"\"\n",
        "You're a course teaching assistant. Answer the QUESTION based on the CONTEXT from the FAQ database.\n",
        "Use only the facts from the CONTEXT when answering the QUESTION.\n",
        "\n",
        "QUESTION: {question}\n",
        "\n",
        "CONTEXT:\n",
        "{context}\n",
        "\"\"\".strip()\n",
        "```"
      ]
    },
    {
      "cell_type": "code",
      "execution_count": 15,
      "metadata": {},
      "outputs": [],
      "source": [
        "# Answer Q5.2: Prompt template\n",
        "prompt_template = \"\"\"\n",
        "You're a course teaching assistant. Answer the QUESTION based on the CONTEXT from the FAQ database.\n",
        "Use only the facts from the CONTEXT when answering the QUESTION.\n",
        "\n",
        "QUESTION: {question}\n",
        "\n",
        "CONTEXT:\n",
        "{context}\n",
        "\"\"\".strip()\n"
      ]
    },
    {
      "cell_type": "code",
      "execution_count": 16,
      "metadata": {},
      "outputs": [
        {
          "name": "stdout",
          "output_type": "stream",
          "text": [
            "You're a course teaching assistant. Answer the QUESTION based on the CONTEXT from the FAQ database.\n",
            "Use only the facts from the CONTEXT when answering the QUESTION.\n",
            "\n",
            "QUESTION: How do I execute a command in a running docker container?\n",
            "\n",
            "CONTEXT:\n",
            "Q: How do I debug a docker container?\n",
            "A: Launch the container image in interactive mode and overriding the entrypoint, so that it starts a bash command.\n",
            "docker run -it --entrypoint bash <image>\n",
            "If the container is already running, execute a command in the specific container:\n",
            "docker ps (find the container-id)\n",
            "docker exec -it <container-id> bash\n",
            "(Marcos MJD)\n",
            "\n",
            "Q: How do I copy files from my local machine to docker container?\n",
            "A: You can copy files from your local machine into a Docker container using the docker cp command. Here's how to do it:\n",
            "To copy a file or directory from your local machine into a running Docker container, you can use the `docker cp command`. The basic syntax is as follows:\n",
            "docker cp /path/to/local/file_or_directory container_id:/path/in/container\n",
            "Hrithik Kumar Advani\n",
            "\n",
            "Q: How do I copy files from a different folder into docker container’s working directory?\n",
            "A: You can copy files from your local machine into a Docker container using the docker cp command. Here's how to do it:\n",
            "In the Dockerfile, you can provide the folder containing the files that you want to copy over. The basic syntax is as follows:\n",
            "COPY [\"src/predict.py\", \"models/xgb_model.bin\", \"./\"]\t\t\t\t\t\t\t\t\t\t\tGopakumar Gopinathan\n"
          ]
        }
      ],
      "source": [
        "promt = \"\"\n",
        "prompt = prompt_template.format(question=query, context=context).strip()\n",
        "print(prompt)"
      ]
    },
    {
      "cell_type": "markdown",
      "metadata": {},
      "source": [
        "What's the length of the resulting prompt? (use the len function)\n",
        "\n",
        "- 962\n",
        "- 1462\n",
        "- 1962\n",
        "- 2462"
      ]
    },
    {
      "cell_type": "code",
      "execution_count": null,
      "metadata": {},
      "outputs": [],
      "source": [
        "len(prompt)"
      ]
    },
    {
      "cell_type": "markdown",
      "metadata": {},
      "source": [
        "# Q6. Tokens\n",
        "When we use the OpenAI Platform, we're charged by the number of tokens we send in our prompt and receive in the response.\n",
        "\n",
        "The OpenAI python package uses `tiktoken` for tokenization:"
      ]
    },
    {
      "cell_type": "code",
      "execution_count": null,
      "metadata": {},
      "outputs": [],
      "source": [
        "!pip install tiktoken"
      ]
    },
    {
      "cell_type": "markdown",
      "metadata": {},
      "source": [
        "Let's calculate the number of tokens in our query:"
      ]
    },
    {
      "cell_type": "code",
      "execution_count": null,
      "metadata": {},
      "outputs": [],
      "source": [
        "import tiktoken\n",
        "encoding = tiktoken.encoding_for_model(\"gpt-4o\")"
      ]
    },
    {
      "cell_type": "markdown",
      "metadata": {},
      "source": [
        "Use the `encode` function. How many tokens does our prompt have?\n",
        "\n",
        "- 122\n",
        "- 222\n",
        "- 322\n",
        "- 422\n",
        "\n",
        "Note: to decode back a token into a word, you can use the `decode_single_token_bytes` function:\n",
        "\n",
        "`encoding.decode_single_token_bytes(63842)`"
      ]
    },
    {
      "cell_type": "code",
      "execution_count": null,
      "metadata": {},
      "outputs": [],
      "source": [
        "len(encoding.encode(prompt))"
      ]
    },
    {
      "cell_type": "markdown",
      "metadata": {},
      "source": [
        "# Bonus: generating the answer (ungraded)\n",
        "Let's send the prompt to OpenAI. What's the response?\n",
        "\n",
        "Note: you can replace OpenAI with Ollama. See module 2."
      ]
    },
    {
      "cell_type": "code",
      "execution_count": 17,
      "metadata": {},
      "outputs": [],
      "source": [
        "from openai import OpenAI"
      ]
    },
    {
      "cell_type": "code",
      "execution_count": 21,
      "metadata": {},
      "outputs": [],
      "source": [
        "client = OpenAI(base_url = \"http://localhost:11434/v1\", api_key=\"ollama\")"
      ]
    },
    {
      "cell_type": "code",
      "execution_count": null,
      "metadata": {},
      "outputs": [],
      "source": [
        "response = client.chat.completions.create(\n",
        "    model='llama3',\n",
        "    messages=[{\"role\": \"user\", \"content\": prompt}]\n",
        ")\n",
        "print(prompt)\n",
        "print(response.choices[0].message.content)"
      ]
    },
    {
      "cell_type": "code",
      "execution_count": 25,
      "metadata": {},
      "outputs": [
        {
          "name": "stdout",
          "output_type": "stream",
          "text": [
            "You're a course teaching assistant. Answer the QUESTION based on the CONTEXT from the FAQ database.\n",
            "Use only the facts from the CONTEXT when answering the QUESTION.\n",
            "\n",
            "QUESTION: How do I execute a command in a running docker container?\n",
            "\n",
            "CONTEXT:\n",
            "Q: How do I debug a docker container?\n",
            "A: Launch the container image in interactive mode and overriding the entrypoint, so that it starts a bash command.\n",
            "docker run -it --entrypoint bash <image>\n",
            "If the container is already running, execute a command in the specific container:\n",
            "docker ps (find the container-id)\n",
            "docker exec -it <container-id> bash\n",
            "(Marcos MJD)\n",
            "\n",
            "Q: How do I copy files from my local machine to docker container?\n",
            "A: You can copy files from your local machine into a Docker container using the docker cp command. Here's how to do it:\n",
            "To copy a file or directory from your local machine into a running Docker container, you can use the `docker cp command`. The basic syntax is as follows:\n",
            "docker cp /path/to/local/file_or_directory container_id:/path/in/container\n",
            "Hrithik Kumar Advani\n",
            "\n",
            "Q: How do I copy files from a different folder into docker container’s working directory?\n",
            "A: You can copy files from your local machine into a Docker container using the docker cp command. Here's how to do it:\n",
            "In the Dockerfile, you can provide the folder containing the files that you want to copy over. The basic syntax is as follows:\n",
            "COPY [\"src/predict.py\", \"models/xgb_model.bin\", \"./\"]\t\t\t\t\t\t\t\t\t\t\tGopakumar Gopinathan\n",
            " To execute a command in a running Docker container, you can use the `docker exec` command followed by the desired command and the specific container ID:\n",
            "\n",
            "```bash\n",
            "docker exec -it <container-id> <command-to-execute>\n",
            "```\n",
            "\n",
            "Replace `<container-id>` with the actual ID of your running Docker container (which you can find using `docker ps`) and replace `<command-to-execute>` with the command you wish to run within that specific container.\n"
          ]
        }
      ],
      "source": [
        "response = client.chat.completions.create(\n",
        "    model='phi3',\n",
        "    messages=[{\"role\": \"user\", \"content\": prompt}]\n",
        ")\n",
        "print(prompt)\n",
        "print(response.choices[0].message.content)"
      ]
    },
    {
      "cell_type": "code",
      "execution_count": null,
      "metadata": {},
      "outputs": [],
      "source": []
    }
  ],
  "metadata": {
    "colab": {
      "provenance": []
    },
    "kernelspec": {
      "display_name": "Python 3",
      "name": "python3"
    },
    "language_info": {
      "codemirror_mode": {
        "name": "ipython",
        "version": 3
      },
      "file_extension": ".py",
      "mimetype": "text/x-python",
      "name": "python",
      "nbconvert_exporter": "python",
      "pygments_lexer": "ipython3",
      "version": "3.12.4"
    }
  },
  "nbformat": 4,
  "nbformat_minor": 0
}
