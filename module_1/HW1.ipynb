{
  "cells": [
    {
      "cell_type": "code",
      "execution_count": 1,
      "metadata": {
        "id": "CfQLwR6-jyMl"
      },
      "outputs": [
        {
          "name": "stdout",
          "output_type": "stream",
          "text": [
            "Requirement already satisfied: tqdm in d:\\courses\\llm-zoomcamp\\venv\\lib\\site-packages (4.66.4)\n",
            "Requirement already satisfied: notebook==7.1.2 in d:\\courses\\llm-zoomcamp\\venv\\lib\\site-packages (7.1.2)\n",
            "Requirement already satisfied: openai in d:\\courses\\llm-zoomcamp\\venv\\lib\\site-packages (1.35.3)\n",
            "Requirement already satisfied: elasticsearch in d:\\courses\\llm-zoomcamp\\venv\\lib\\site-packages (8.14.0)\n",
            "Requirement already satisfied: pandas in d:\\courses\\llm-zoomcamp\\venv\\lib\\site-packages (2.2.2)\n",
            "Requirement already satisfied: scikit-learn in d:\\courses\\llm-zoomcamp\\venv\\lib\\site-packages (1.5.0)\n",
            "Requirement already satisfied: jupyter-server<3,>=2.4.0 in d:\\courses\\llm-zoomcamp\\venv\\lib\\site-packages (from notebook==7.1.2) (2.14.1)\n",
            "Requirement already satisfied: jupyterlab-server<3,>=2.22.1 in d:\\courses\\llm-zoomcamp\\venv\\lib\\site-packages (from notebook==7.1.2) (2.27.2)\n",
            "Requirement already satisfied: jupyterlab<4.2,>=4.1.1 in d:\\courses\\llm-zoomcamp\\venv\\lib\\site-packages (from notebook==7.1.2) (4.1.8)\n",
            "Requirement already satisfied: notebook-shim<0.3,>=0.2 in d:\\courses\\llm-zoomcamp\\venv\\lib\\site-packages (from notebook==7.1.2) (0.2.4)\n",
            "Requirement already satisfied: tornado>=6.2.0 in d:\\courses\\llm-zoomcamp\\venv\\lib\\site-packages (from notebook==7.1.2) (6.4.1)\n",
            "Requirement already satisfied: colorama in d:\\courses\\llm-zoomcamp\\venv\\lib\\site-packages (from tqdm) (0.4.6)\n",
            "Requirement already satisfied: anyio<5,>=3.5.0 in d:\\courses\\llm-zoomcamp\\venv\\lib\\site-packages (from openai) (4.4.0)\n",
            "Requirement already satisfied: distro<2,>=1.7.0 in d:\\courses\\llm-zoomcamp\\venv\\lib\\site-packages (from openai) (1.9.0)\n",
            "Requirement already satisfied: httpx<1,>=0.23.0 in d:\\courses\\llm-zoomcamp\\venv\\lib\\site-packages (from openai) (0.27.0)\n",
            "Requirement already satisfied: pydantic<3,>=1.9.0 in d:\\courses\\llm-zoomcamp\\venv\\lib\\site-packages (from openai) (2.7.4)\n",
            "Requirement already satisfied: sniffio in d:\\courses\\llm-zoomcamp\\venv\\lib\\site-packages (from openai) (1.3.1)\n",
            "Requirement already satisfied: typing-extensions<5,>=4.7 in d:\\courses\\llm-zoomcamp\\venv\\lib\\site-packages (from openai) (4.12.2)\n",
            "Requirement already satisfied: elastic-transport<9,>=8.13 in d:\\courses\\llm-zoomcamp\\venv\\lib\\site-packages (from elasticsearch) (8.13.1)\n",
            "Requirement already satisfied: numpy>=1.26.0 in d:\\courses\\llm-zoomcamp\\venv\\lib\\site-packages (from pandas) (2.0.0)\n",
            "Requirement already satisfied: python-dateutil>=2.8.2 in d:\\courses\\llm-zoomcamp\\venv\\lib\\site-packages (from pandas) (2.9.0.post0)\n",
            "Requirement already satisfied: pytz>=2020.1 in d:\\courses\\llm-zoomcamp\\venv\\lib\\site-packages (from pandas) (2024.1)\n",
            "Requirement already satisfied: tzdata>=2022.7 in d:\\courses\\llm-zoomcamp\\venv\\lib\\site-packages (from pandas) (2024.1)\n",
            "Requirement already satisfied: scipy>=1.6.0 in d:\\courses\\llm-zoomcamp\\venv\\lib\\site-packages (from scikit-learn) (1.14.0)\n",
            "Requirement already satisfied: joblib>=1.2.0 in d:\\courses\\llm-zoomcamp\\venv\\lib\\site-packages (from scikit-learn) (1.4.2)\n",
            "Requirement already satisfied: threadpoolctl>=3.1.0 in d:\\courses\\llm-zoomcamp\\venv\\lib\\site-packages (from scikit-learn) (3.5.0)\n",
            "Requirement already satisfied: idna>=2.8 in d:\\courses\\llm-zoomcamp\\venv\\lib\\site-packages (from anyio<5,>=3.5.0->openai) (3.7)\n",
            "Requirement already satisfied: urllib3<3,>=1.26.2 in d:\\courses\\llm-zoomcamp\\venv\\lib\\site-packages (from elastic-transport<9,>=8.13->elasticsearch) (2.2.2)\n",
            "Requirement already satisfied: certifi in d:\\courses\\llm-zoomcamp\\venv\\lib\\site-packages (from elastic-transport<9,>=8.13->elasticsearch) (2024.6.2)\n",
            "Requirement already satisfied: httpcore==1.* in d:\\courses\\llm-zoomcamp\\venv\\lib\\site-packages (from httpx<1,>=0.23.0->openai) (1.0.5)\n",
            "Requirement already satisfied: h11<0.15,>=0.13 in d:\\courses\\llm-zoomcamp\\venv\\lib\\site-packages (from httpcore==1.*->httpx<1,>=0.23.0->openai) (0.14.0)\n",
            "Requirement already satisfied: argon2-cffi>=21.1 in d:\\courses\\llm-zoomcamp\\venv\\lib\\site-packages (from jupyter-server<3,>=2.4.0->notebook==7.1.2) (23.1.0)\n",
            "Requirement already satisfied: jinja2>=3.0.3 in d:\\courses\\llm-zoomcamp\\venv\\lib\\site-packages (from jupyter-server<3,>=2.4.0->notebook==7.1.2) (3.1.4)\n",
            "Requirement already satisfied: jupyter-client>=7.4.4 in d:\\courses\\llm-zoomcamp\\venv\\lib\\site-packages (from jupyter-server<3,>=2.4.0->notebook==7.1.2) (8.6.2)\n",
            "Requirement already satisfied: jupyter-core!=5.0.*,>=4.12 in d:\\courses\\llm-zoomcamp\\venv\\lib\\site-packages (from jupyter-server<3,>=2.4.0->notebook==7.1.2) (5.7.2)\n",
            "Requirement already satisfied: jupyter-events>=0.9.0 in d:\\courses\\llm-zoomcamp\\venv\\lib\\site-packages (from jupyter-server<3,>=2.4.0->notebook==7.1.2) (0.10.0)\n",
            "Requirement already satisfied: jupyter-server-terminals>=0.4.4 in d:\\courses\\llm-zoomcamp\\venv\\lib\\site-packages (from jupyter-server<3,>=2.4.0->notebook==7.1.2) (0.5.3)\n",
            "Requirement already satisfied: nbconvert>=6.4.4 in d:\\courses\\llm-zoomcamp\\venv\\lib\\site-packages (from jupyter-server<3,>=2.4.0->notebook==7.1.2) (7.16.4)\n",
            "Requirement already satisfied: nbformat>=5.3.0 in d:\\courses\\llm-zoomcamp\\venv\\lib\\site-packages (from jupyter-server<3,>=2.4.0->notebook==7.1.2) (5.10.4)\n",
            "Requirement already satisfied: overrides>=5.0 in d:\\courses\\llm-zoomcamp\\venv\\lib\\site-packages (from jupyter-server<3,>=2.4.0->notebook==7.1.2) (7.7.0)\n",
            "Requirement already satisfied: packaging>=22.0 in d:\\courses\\llm-zoomcamp\\venv\\lib\\site-packages (from jupyter-server<3,>=2.4.0->notebook==7.1.2) (24.1)\n",
            "Requirement already satisfied: prometheus-client>=0.9 in d:\\courses\\llm-zoomcamp\\venv\\lib\\site-packages (from jupyter-server<3,>=2.4.0->notebook==7.1.2) (0.20.0)\n",
            "Requirement already satisfied: pywinpty>=2.0.1 in d:\\courses\\llm-zoomcamp\\venv\\lib\\site-packages (from jupyter-server<3,>=2.4.0->notebook==7.1.2) (2.0.13)\n",
            "Requirement already satisfied: pyzmq>=24 in d:\\courses\\llm-zoomcamp\\venv\\lib\\site-packages (from jupyter-server<3,>=2.4.0->notebook==7.1.2) (26.0.3)\n",
            "Requirement already satisfied: send2trash>=1.8.2 in d:\\courses\\llm-zoomcamp\\venv\\lib\\site-packages (from jupyter-server<3,>=2.4.0->notebook==7.1.2) (1.8.3)\n",
            "Requirement already satisfied: terminado>=0.8.3 in d:\\courses\\llm-zoomcamp\\venv\\lib\\site-packages (from jupyter-server<3,>=2.4.0->notebook==7.1.2) (0.18.1)\n",
            "Requirement already satisfied: traitlets>=5.6.0 in d:\\courses\\llm-zoomcamp\\venv\\lib\\site-packages (from jupyter-server<3,>=2.4.0->notebook==7.1.2) (5.14.3)\n",
            "Requirement already satisfied: websocket-client>=1.7 in d:\\courses\\llm-zoomcamp\\venv\\lib\\site-packages (from jupyter-server<3,>=2.4.0->notebook==7.1.2) (1.8.0)\n",
            "Requirement already satisfied: async-lru>=1.0.0 in d:\\courses\\llm-zoomcamp\\venv\\lib\\site-packages (from jupyterlab<4.2,>=4.1.1->notebook==7.1.2) (2.0.4)\n",
            "Requirement already satisfied: ipykernel>=6.5.0 in d:\\courses\\llm-zoomcamp\\venv\\lib\\site-packages (from jupyterlab<4.2,>=4.1.1->notebook==7.1.2) (6.29.4)\n",
            "Requirement already satisfied: jupyter-lsp>=2.0.0 in d:\\courses\\llm-zoomcamp\\venv\\lib\\site-packages (from jupyterlab<4.2,>=4.1.1->notebook==7.1.2) (2.2.5)\n",
            "Requirement already satisfied: babel>=2.10 in d:\\courses\\llm-zoomcamp\\venv\\lib\\site-packages (from jupyterlab-server<3,>=2.22.1->notebook==7.1.2) (2.15.0)\n",
            "Requirement already satisfied: json5>=0.9.0 in d:\\courses\\llm-zoomcamp\\venv\\lib\\site-packages (from jupyterlab-server<3,>=2.22.1->notebook==7.1.2) (0.9.25)\n",
            "Requirement already satisfied: jsonschema>=4.18.0 in d:\\courses\\llm-zoomcamp\\venv\\lib\\site-packages (from jupyterlab-server<3,>=2.22.1->notebook==7.1.2) (4.22.0)\n",
            "Requirement already satisfied: requests>=2.31 in d:\\courses\\llm-zoomcamp\\venv\\lib\\site-packages (from jupyterlab-server<3,>=2.22.1->notebook==7.1.2) (2.32.3)\n",
            "Requirement already satisfied: annotated-types>=0.4.0 in d:\\courses\\llm-zoomcamp\\venv\\lib\\site-packages (from pydantic<3,>=1.9.0->openai) (0.7.0)\n",
            "Requirement already satisfied: pydantic-core==2.18.4 in d:\\courses\\llm-zoomcamp\\venv\\lib\\site-packages (from pydantic<3,>=1.9.0->openai) (2.18.4)\n",
            "Requirement already satisfied: six>=1.5 in d:\\courses\\llm-zoomcamp\\venv\\lib\\site-packages (from python-dateutil>=2.8.2->pandas) (1.16.0)\n",
            "Requirement already satisfied: argon2-cffi-bindings in d:\\courses\\llm-zoomcamp\\venv\\lib\\site-packages (from argon2-cffi>=21.1->jupyter-server<3,>=2.4.0->notebook==7.1.2) (21.2.0)\n",
            "Requirement already satisfied: comm>=0.1.1 in d:\\courses\\llm-zoomcamp\\venv\\lib\\site-packages (from ipykernel>=6.5.0->jupyterlab<4.2,>=4.1.1->notebook==7.1.2) (0.2.2)\n",
            "Requirement already satisfied: debugpy>=1.6.5 in d:\\courses\\llm-zoomcamp\\venv\\lib\\site-packages (from ipykernel>=6.5.0->jupyterlab<4.2,>=4.1.1->notebook==7.1.2) (1.8.1)\n",
            "Requirement already satisfied: ipython>=7.23.1 in d:\\courses\\llm-zoomcamp\\venv\\lib\\site-packages (from ipykernel>=6.5.0->jupyterlab<4.2,>=4.1.1->notebook==7.1.2) (8.25.0)\n",
            "Requirement already satisfied: matplotlib-inline>=0.1 in d:\\courses\\llm-zoomcamp\\venv\\lib\\site-packages (from ipykernel>=6.5.0->jupyterlab<4.2,>=4.1.1->notebook==7.1.2) (0.1.7)\n",
            "Requirement already satisfied: nest-asyncio in d:\\courses\\llm-zoomcamp\\venv\\lib\\site-packages (from ipykernel>=6.5.0->jupyterlab<4.2,>=4.1.1->notebook==7.1.2) (1.6.0)\n",
            "Requirement already satisfied: psutil in d:\\courses\\llm-zoomcamp\\venv\\lib\\site-packages (from ipykernel>=6.5.0->jupyterlab<4.2,>=4.1.1->notebook==7.1.2) (6.0.0)\n",
            "Requirement already satisfied: MarkupSafe>=2.0 in d:\\courses\\llm-zoomcamp\\venv\\lib\\site-packages (from jinja2>=3.0.3->jupyter-server<3,>=2.4.0->notebook==7.1.2) (2.1.5)\n",
            "Requirement already satisfied: attrs>=22.2.0 in d:\\courses\\llm-zoomcamp\\venv\\lib\\site-packages (from jsonschema>=4.18.0->jupyterlab-server<3,>=2.22.1->notebook==7.1.2) (23.2.0)\n",
            "Requirement already satisfied: jsonschema-specifications>=2023.03.6 in d:\\courses\\llm-zoomcamp\\venv\\lib\\site-packages (from jsonschema>=4.18.0->jupyterlab-server<3,>=2.22.1->notebook==7.1.2) (2023.12.1)\n",
            "Requirement already satisfied: referencing>=0.28.4 in d:\\courses\\llm-zoomcamp\\venv\\lib\\site-packages (from jsonschema>=4.18.0->jupyterlab-server<3,>=2.22.1->notebook==7.1.2) (0.35.1)\n",
            "Requirement already satisfied: rpds-py>=0.7.1 in d:\\courses\\llm-zoomcamp\\venv\\lib\\site-packages (from jsonschema>=4.18.0->jupyterlab-server<3,>=2.22.1->notebook==7.1.2) (0.18.1)\n",
            "Requirement already satisfied: platformdirs>=2.5 in d:\\courses\\llm-zoomcamp\\venv\\lib\\site-packages (from jupyter-core!=5.0.*,>=4.12->jupyter-server<3,>=2.4.0->notebook==7.1.2) (4.2.2)\n",
            "Requirement already satisfied: pywin32>=300 in d:\\courses\\llm-zoomcamp\\venv\\lib\\site-packages (from jupyter-core!=5.0.*,>=4.12->jupyter-server<3,>=2.4.0->notebook==7.1.2) (306)\n",
            "Requirement already satisfied: python-json-logger>=2.0.4 in d:\\courses\\llm-zoomcamp\\venv\\lib\\site-packages (from jupyter-events>=0.9.0->jupyter-server<3,>=2.4.0->notebook==7.1.2) (2.0.7)\n",
            "Requirement already satisfied: pyyaml>=5.3 in d:\\courses\\llm-zoomcamp\\venv\\lib\\site-packages (from jupyter-events>=0.9.0->jupyter-server<3,>=2.4.0->notebook==7.1.2) (6.0.1)\n",
            "Requirement already satisfied: rfc3339-validator in d:\\courses\\llm-zoomcamp\\venv\\lib\\site-packages (from jupyter-events>=0.9.0->jupyter-server<3,>=2.4.0->notebook==7.1.2) (0.1.4)\n",
            "Requirement already satisfied: rfc3986-validator>=0.1.1 in d:\\courses\\llm-zoomcamp\\venv\\lib\\site-packages (from jupyter-events>=0.9.0->jupyter-server<3,>=2.4.0->notebook==7.1.2) (0.1.1)\n",
            "Requirement already satisfied: beautifulsoup4 in d:\\courses\\llm-zoomcamp\\venv\\lib\\site-packages (from nbconvert>=6.4.4->jupyter-server<3,>=2.4.0->notebook==7.1.2) (4.12.3)\n",
            "Requirement already satisfied: bleach!=5.0.0 in d:\\courses\\llm-zoomcamp\\venv\\lib\\site-packages (from nbconvert>=6.4.4->jupyter-server<3,>=2.4.0->notebook==7.1.2) (6.1.0)\n",
            "Requirement already satisfied: defusedxml in d:\\courses\\llm-zoomcamp\\venv\\lib\\site-packages (from nbconvert>=6.4.4->jupyter-server<3,>=2.4.0->notebook==7.1.2) (0.7.1)\n",
            "Requirement already satisfied: jupyterlab-pygments in d:\\courses\\llm-zoomcamp\\venv\\lib\\site-packages (from nbconvert>=6.4.4->jupyter-server<3,>=2.4.0->notebook==7.1.2) (0.3.0)\n",
            "Requirement already satisfied: mistune<4,>=2.0.3 in d:\\courses\\llm-zoomcamp\\venv\\lib\\site-packages (from nbconvert>=6.4.4->jupyter-server<3,>=2.4.0->notebook==7.1.2) (3.0.2)\n",
            "Requirement already satisfied: nbclient>=0.5.0 in d:\\courses\\llm-zoomcamp\\venv\\lib\\site-packages (from nbconvert>=6.4.4->jupyter-server<3,>=2.4.0->notebook==7.1.2) (0.10.0)\n",
            "Requirement already satisfied: pandocfilters>=1.4.1 in d:\\courses\\llm-zoomcamp\\venv\\lib\\site-packages (from nbconvert>=6.4.4->jupyter-server<3,>=2.4.0->notebook==7.1.2) (1.5.1)\n",
            "Requirement already satisfied: pygments>=2.4.1 in d:\\courses\\llm-zoomcamp\\venv\\lib\\site-packages (from nbconvert>=6.4.4->jupyter-server<3,>=2.4.0->notebook==7.1.2) (2.18.0)\n",
            "Requirement already satisfied: tinycss2 in d:\\courses\\llm-zoomcamp\\venv\\lib\\site-packages (from nbconvert>=6.4.4->jupyter-server<3,>=2.4.0->notebook==7.1.2) (1.3.0)\n",
            "Requirement already satisfied: fastjsonschema>=2.15 in d:\\courses\\llm-zoomcamp\\venv\\lib\\site-packages (from nbformat>=5.3.0->jupyter-server<3,>=2.4.0->notebook==7.1.2) (2.20.0)\n",
            "Requirement already satisfied: charset-normalizer<4,>=2 in d:\\courses\\llm-zoomcamp\\venv\\lib\\site-packages (from requests>=2.31->jupyterlab-server<3,>=2.22.1->notebook==7.1.2) (3.3.2)\n",
            "Requirement already satisfied: webencodings in d:\\courses\\llm-zoomcamp\\venv\\lib\\site-packages (from bleach!=5.0.0->nbconvert>=6.4.4->jupyter-server<3,>=2.4.0->notebook==7.1.2) (0.5.1)\n",
            "Requirement already satisfied: decorator in d:\\courses\\llm-zoomcamp\\venv\\lib\\site-packages (from ipython>=7.23.1->ipykernel>=6.5.0->jupyterlab<4.2,>=4.1.1->notebook==7.1.2) (5.1.1)\n",
            "Requirement already satisfied: jedi>=0.16 in d:\\courses\\llm-zoomcamp\\venv\\lib\\site-packages (from ipython>=7.23.1->ipykernel>=6.5.0->jupyterlab<4.2,>=4.1.1->notebook==7.1.2) (0.19.1)\n",
            "Requirement already satisfied: prompt-toolkit<3.1.0,>=3.0.41 in d:\\courses\\llm-zoomcamp\\venv\\lib\\site-packages (from ipython>=7.23.1->ipykernel>=6.5.0->jupyterlab<4.2,>=4.1.1->notebook==7.1.2) (3.0.47)\n",
            "Requirement already satisfied: stack-data in d:\\courses\\llm-zoomcamp\\venv\\lib\\site-packages (from ipython>=7.23.1->ipykernel>=6.5.0->jupyterlab<4.2,>=4.1.1->notebook==7.1.2) (0.6.3)\n",
            "Requirement already satisfied: fqdn in d:\\courses\\llm-zoomcamp\\venv\\lib\\site-packages (from jsonschema[format-nongpl]>=4.18.0->jupyter-events>=0.9.0->jupyter-server<3,>=2.4.0->notebook==7.1.2) (1.5.1)\n",
            "Requirement already satisfied: isoduration in d:\\courses\\llm-zoomcamp\\venv\\lib\\site-packages (from jsonschema[format-nongpl]>=4.18.0->jupyter-events>=0.9.0->jupyter-server<3,>=2.4.0->notebook==7.1.2) (20.11.0)\n",
            "Requirement already satisfied: jsonpointer>1.13 in d:\\courses\\llm-zoomcamp\\venv\\lib\\site-packages (from jsonschema[format-nongpl]>=4.18.0->jupyter-events>=0.9.0->jupyter-server<3,>=2.4.0->notebook==7.1.2) (3.0.0)\n",
            "Requirement already satisfied: uri-template in d:\\courses\\llm-zoomcamp\\venv\\lib\\site-packages (from jsonschema[format-nongpl]>=4.18.0->jupyter-events>=0.9.0->jupyter-server<3,>=2.4.0->notebook==7.1.2) (1.3.0)\n",
            "Requirement already satisfied: webcolors>=1.11 in d:\\courses\\llm-zoomcamp\\venv\\lib\\site-packages (from jsonschema[format-nongpl]>=4.18.0->jupyter-events>=0.9.0->jupyter-server<3,>=2.4.0->notebook==7.1.2) (24.6.0)\n",
            "Requirement already satisfied: cffi>=1.0.1 in d:\\courses\\llm-zoomcamp\\venv\\lib\\site-packages (from argon2-cffi-bindings->argon2-cffi>=21.1->jupyter-server<3,>=2.4.0->notebook==7.1.2) (1.16.0)\n",
            "Requirement already satisfied: soupsieve>1.2 in d:\\courses\\llm-zoomcamp\\venv\\lib\\site-packages (from beautifulsoup4->nbconvert>=6.4.4->jupyter-server<3,>=2.4.0->notebook==7.1.2) (2.5)\n",
            "Requirement already satisfied: pycparser in d:\\courses\\llm-zoomcamp\\venv\\lib\\site-packages (from cffi>=1.0.1->argon2-cffi-bindings->argon2-cffi>=21.1->jupyter-server<3,>=2.4.0->notebook==7.1.2) (2.22)\n",
            "Requirement already satisfied: parso<0.9.0,>=0.8.3 in d:\\courses\\llm-zoomcamp\\venv\\lib\\site-packages (from jedi>=0.16->ipython>=7.23.1->ipykernel>=6.5.0->jupyterlab<4.2,>=4.1.1->notebook==7.1.2) (0.8.4)\n",
            "Requirement already satisfied: wcwidth in d:\\courses\\llm-zoomcamp\\venv\\lib\\site-packages (from prompt-toolkit<3.1.0,>=3.0.41->ipython>=7.23.1->ipykernel>=6.5.0->jupyterlab<4.2,>=4.1.1->notebook==7.1.2) (0.2.13)\n",
            "Requirement already satisfied: arrow>=0.15.0 in d:\\courses\\llm-zoomcamp\\venv\\lib\\site-packages (from isoduration->jsonschema[format-nongpl]>=4.18.0->jupyter-events>=0.9.0->jupyter-server<3,>=2.4.0->notebook==7.1.2) (1.3.0)\n",
            "Requirement already satisfied: executing>=1.2.0 in d:\\courses\\llm-zoomcamp\\venv\\lib\\site-packages (from stack-data->ipython>=7.23.1->ipykernel>=6.5.0->jupyterlab<4.2,>=4.1.1->notebook==7.1.2) (2.0.1)\n",
            "Requirement already satisfied: asttokens>=2.1.0 in d:\\courses\\llm-zoomcamp\\venv\\lib\\site-packages (from stack-data->ipython>=7.23.1->ipykernel>=6.5.0->jupyterlab<4.2,>=4.1.1->notebook==7.1.2) (2.4.1)\n",
            "Requirement already satisfied: pure-eval in d:\\courses\\llm-zoomcamp\\venv\\lib\\site-packages (from stack-data->ipython>=7.23.1->ipykernel>=6.5.0->jupyterlab<4.2,>=4.1.1->notebook==7.1.2) (0.2.2)\n",
            "Requirement already satisfied: types-python-dateutil>=2.8.10 in d:\\courses\\llm-zoomcamp\\venv\\lib\\site-packages (from arrow>=0.15.0->isoduration->jsonschema[format-nongpl]>=4.18.0->jupyter-events>=0.9.0->jupyter-server<3,>=2.4.0->notebook==7.1.2) (2.9.0.20240316)\n"
          ]
        },
        {
          "name": "stderr",
          "output_type": "stream",
          "text": [
            "\n",
            "[notice] A new release of pip is available: 24.0 -> 24.1\n",
            "[notice] To update, run: python.exe -m pip install --upgrade pip\n"
          ]
        }
      ],
      "source": [
        "!pip install tqdm notebook==7.1.2 openai elasticsearch pandas scikit-learn"
      ]
    },
    {
      "cell_type": "markdown",
      "metadata": {
        "id": "GDJGafvpRWSi"
      },
      "source": [
        "# Q1. Running Elastic\n",
        "Run Elastic Search 8.4.3, and get the cluster information. If you run it on localhost, this is how you do it:\n",
        "\n",
        "\n",
        "```\n",
        "curl localhost:9200\n",
        "```\n",
        "\n",
        "What's the `version.build_hash` value?"
      ]
    },
    {
      "cell_type": "markdown",
      "metadata": {
        "id": "6kXpvy6jUWLx"
      },
      "source": [
        "### Running ElasticSearch"
      ]
    },
    {
      "cell_type": "code",
      "execution_count": 2,
      "metadata": {},
      "outputs": [
        {
          "name": "stdout",
          "output_type": "stream",
          "text": [
            "a948ffc14cea87e6d1be908a0210f3cdf93256650758f512c0512091484fbbcf\n"
          ]
        }
      ],
      "source": [
        "!docker run -d --rm --name elasticsearch -p 9200:9200 -p 9300:9300 -e \"discovery.type=single-node\" -e \"xpack.security.enabled=false\" docker.elastic.co/elasticsearch/elasticsearch:8.4.3"
      ]
    },
    {
      "cell_type": "code",
      "execution_count": 3,
      "metadata": {},
      "outputs": [
        {
          "name": "stdout",
          "output_type": "stream",
          "text": [
            "{\n",
            "  \"name\" : \"a948ffc14cea\",\n",
            "  \"cluster_name\" : \"docker-cluster\",\n",
            "  \"cluster_uuid\" : \"BcI_xJkpQuK8D_vvobX4Dw\",\n",
            "  \"version\" : {\n",
            "    \"number\" : \"8.4.3\",\n",
            "    \"build_flavor\" : \"default\",\n",
            "    \"build_type\" : \"docker\",\n",
            "    \"build_hash\" : \"42f05b9372a9a4a470db3b52817899b99a76ee73\",\n",
            "    \"build_date\" : \"2022-10-04T07:17:24.662462378Z\",\n",
            "    \"build_snapshot\" : false,\n",
            "    \"lucene_version\" : \"9.3.0\",\n",
            "    \"minimum_wire_compatibility_version\" : \"7.17.0\",\n",
            "    \"minimum_index_compatibility_version\" : \"7.0.0\"\n",
            "  },\n",
            "  \"tagline\" : \"You Know, for Search\"\n",
            "}\n"
          ]
        },
        {
          "name": "stderr",
          "output_type": "stream",
          "text": [
            "  % Total    % Received % Xferd  Average Speed   Time    Time     Time  Current\n",
            "                                 Dload  Upload   Total   Spent    Left  Speed\n",
            "\n",
            "  0     0    0     0    0     0      0      0 --:--:-- --:--:-- --:--:--     0\n",
            "100   539  100   539    0     0   9349      0 --:--:-- --:--:-- --:--:--  9456\n"
          ]
        }
      ],
      "source": [
        "!curl localhost:9200"
      ]
    },
    {
      "cell_type": "markdown",
      "metadata": {
        "id": "VVPmViLYUeSz"
      },
      "source": [
        "# Q2. Indexing the data\n",
        "## Getting the data\n",
        "Now let's get the FAQ data. You can run this snippet:"
      ]
    },
    {
      "cell_type": "code",
      "execution_count": 4,
      "metadata": {},
      "outputs": [],
      "source": [
        "import requests\n",
        "\n",
        "docs_url = 'https://github.com/DataTalksClub/llm-zoomcamp/blob/main/01-intro/documents.json?raw=1'\n",
        "docs_response = requests.get(docs_url)\n",
        "documents_raw = docs_response.json()\n",
        "\n",
        "documents = []\n",
        "\n",
        "for course in documents_raw:\n",
        "    course_name = course['course']\n",
        "\n",
        "    for doc in course['documents']:\n",
        "        doc['course'] = course_name\n",
        "        documents.append(doc)"
      ]
    },
    {
      "cell_type": "markdown",
      "metadata": {},
      "source": [
        "Note that you need to have the `requests` library:"
      ]
    },
    {
      "cell_type": "code",
      "execution_count": 5,
      "metadata": {},
      "outputs": [
        {
          "name": "stdout",
          "output_type": "stream",
          "text": [
            "Requirement already satisfied: requests in d:\\courses\\llm-zoomcamp\\venv\\lib\\site-packages (2.32.3)\n",
            "Requirement already satisfied: charset-normalizer<4,>=2 in d:\\courses\\llm-zoomcamp\\venv\\lib\\site-packages (from requests) (3.3.2)\n",
            "Requirement already satisfied: idna<4,>=2.5 in d:\\courses\\llm-zoomcamp\\venv\\lib\\site-packages (from requests) (3.7)\n",
            "Requirement already satisfied: urllib3<3,>=1.21.1 in d:\\courses\\llm-zoomcamp\\venv\\lib\\site-packages (from requests) (2.2.2)\n",
            "Requirement already satisfied: certifi>=2017.4.17 in d:\\courses\\llm-zoomcamp\\venv\\lib\\site-packages (from requests) (2024.6.2)\n"
          ]
        },
        {
          "name": "stderr",
          "output_type": "stream",
          "text": [
            "\n",
            "[notice] A new release of pip is available: 24.0 -> 24.1\n",
            "[notice] To update, run: python.exe -m pip install --upgrade pip\n"
          ]
        }
      ],
      "source": [
        "!pip install requests"
      ]
    },
    {
      "cell_type": "code",
      "execution_count": 6,
      "metadata": {
        "id": "9sPQlJaPUarL"
      },
      "outputs": [
        {
          "data": {
            "text/plain": [
              "ObjectApiResponse({'name': 'a948ffc14cea', 'cluster_name': 'docker-cluster', 'cluster_uuid': 'BcI_xJkpQuK8D_vvobX4Dw', 'version': {'number': '8.4.3', 'build_flavor': 'default', 'build_type': 'docker', 'build_hash': '42f05b9372a9a4a470db3b52817899b99a76ee73', 'build_date': '2022-10-04T07:17:24.662462378Z', 'build_snapshot': False, 'lucene_version': '9.3.0', 'minimum_wire_compatibility_version': '7.17.0', 'minimum_index_compatibility_version': '7.0.0'}, 'tagline': 'You Know, for Search'})"
            ]
          },
          "execution_count": 6,
          "metadata": {},
          "output_type": "execute_result"
        }
      ],
      "source": [
        "from elasticsearch import Elasticsearch\n",
        "\n",
        "es_client = Elasticsearch(\"http://localhost:9200\")\n",
        "es_client.info()"
      ]
    },
    {
      "cell_type": "code",
      "execution_count": 7,
      "metadata": {},
      "outputs": [
        {
          "data": {
            "text/plain": [
              "ObjectApiResponse({'acknowledged': True, 'shards_acknowledged': True, 'index': 'course-questions'})"
            ]
          },
          "execution_count": 7,
          "metadata": {},
          "output_type": "execute_result"
        }
      ],
      "source": [
        "index_settings = {\n",
        "    \"settings\": {\n",
        "        \"number_of_shards\": 1,\n",
        "        \"number_of_replicas\": 0\n",
        "    },\n",
        "    \"mappings\": {\n",
        "        \"properties\": {\n",
        "            \"text\": {\"type\": \"text\"},\n",
        "            \"section\": {\"type\": \"text\"},\n",
        "            \"question\": {\"type\": \"text\"},\n",
        "            \"course\": {\"type\": \"keyword\"} \n",
        "        }\n",
        "    }\n",
        "}\n",
        "\n",
        "index_name = \"course-questions\"\n",
        "\n",
        "es_client.indices.create(index=index_name, body=index_settings)"
      ]
    },
    {
      "cell_type": "code",
      "execution_count": 8,
      "metadata": {},
      "outputs": [
        {
          "name": "stderr",
          "output_type": "stream",
          "text": [
            "d:\\courses\\llm-zoomcamp\\venv\\Lib\\site-packages\\tqdm\\auto.py:21: TqdmWarning: IProgress not found. Please update jupyter and ipywidgets. See https://ipywidgets.readthedocs.io/en/stable/user_install.html\n",
            "  from .autonotebook import tqdm as notebook_tqdm\n",
            "  0%|          | 0/948 [00:00<?, ?it/s]"
          ]
        },
        {
          "name": "stderr",
          "output_type": "stream",
          "text": [
            "100%|██████████| 948/948 [00:47<00:00, 19.81it/s]\n"
          ]
        }
      ],
      "source": [
        "from tqdm.auto import tqdm\n",
        "for doc in tqdm(documents):\n",
        "    es_client.index(index=index_name, document=doc)"
      ]
    },
    {
      "cell_type": "markdown",
      "metadata": {},
      "source": [
        "# Q3. Searching\n",
        "Now let's search in our index.\n",
        "\n",
        "We will execute a query \"How do I execute a command in a running docker container?\".\n",
        "\n",
        "Use only `question` and `text` fields and give `question` a boost of 4, and use `\"type\": \"best_fields\"`.\n",
        "\n",
        "What's the score for the top ranking result?\n",
        "\n",
        "- 94.05\n",
        "- 84.05\n",
        "- 74.05\n",
        "- 64.05\n",
        "\n",
        "Look at the `_score field`."
      ]
    },
    {
      "cell_type": "code",
      "execution_count": 9,
      "metadata": {},
      "outputs": [],
      "source": [
        "query = \"How do I execute a command in a running docker container?\""
      ]
    },
    {
      "cell_type": "code",
      "execution_count": 10,
      "metadata": {},
      "outputs": [],
      "source": [
        "search_query_q3 = {\n",
        "        \"size\": 5,\n",
        "        \"query\": {\n",
        "            \"bool\": {\n",
        "                \"must\": {\n",
        "                    \"multi_match\": {\n",
        "                        \"query\": query,\n",
        "                        \"fields\": [\"question^4\", \"text\"],\n",
        "                        \"type\": \"best_fields\"\n",
        "                    }\n",
        "                }\n",
        "            }\n",
        "        }\n",
        "    }\n",
        "\n",
        "response = es_client.search(index=index_name, body=search_query_q3)"
      ]
    },
    {
      "cell_type": "code",
      "execution_count": 11,
      "metadata": {},
      "outputs": [
        {
          "data": {
            "text/plain": [
              "[{'_index': 'course-questions',\n",
              "  '_id': 'KElwV5ABIKU734pqoZ-q',\n",
              "  '_score': 84.050095,\n",
              "  '_source': {'text': 'Launch the container image in interactive mode and overriding the entrypoint, so that it starts a bash command.\\ndocker run -it --entrypoint bash <image>\\nIf the container is already running, execute a command in the specific container:\\ndocker ps (find the container-id)\\ndocker exec -it <container-id> bash\\n(Marcos MJD)',\n",
              "   'section': '5. Deploying Machine Learning Models',\n",
              "   'question': 'How do I debug a docker container?',\n",
              "   'course': 'machine-learning-zoomcamp'}},\n",
              " {'_index': 'course-questions',\n",
              "  '_id': 'NklwV5ABIKU734pqP52J',\n",
              "  '_score': 75.54128,\n",
              "  '_source': {'text': 'In case running pgcli  locally causes issues or you do not want to install it locally you can use it running in a Docker container instead.\\nBelow the usage with values used in the videos of the course for:\\nnetwork name (docker network)\\npostgres related variables for pgcli\\nHostname\\nUsername\\nPort\\nDatabase name\\n$ docker run -it --rm --network pg-network ai2ys/dockerized-pgcli:4.0.1\\n175dd47cda07:/# pgcli -h pg-database -U root -p 5432 -d ny_taxi\\nPassword for root:\\nServer: PostgreSQL 16.1 (Debian 16.1-1.pgdg120+1)\\nVersion: 4.0.1\\nHome: http://pgcli.com\\nroot@pg-database:ny_taxi> \\\\dt\\n+--------+------------------+-------+-------+\\n| Schema | Name             | Type  | Owner |\\n|--------+------------------+-------+-------|\\n| public | yellow_taxi_data | table | root  |\\n+--------+------------------+-------+-------+\\nSELECT 1\\nTime: 0.009s\\nroot@pg-database:ny_taxi>',\n",
              "   'section': 'Module 1: Docker and Terraform',\n",
              "   'question': 'PGCLI - running in a Docker container',\n",
              "   'course': 'data-engineering-zoomcamp'}},\n",
              " {'_index': 'course-questions',\n",
              "  '_id': 'V0lwV5ABIKU734pq3aAe',\n",
              "  '_score': 72.08518,\n",
              "  '_source': {'text': 'If you are trying to run Flask gunicorn & MLFlow server from the same container, defining both in Dockerfile with CMD will only run MLFlow & not Flask.\\nSolution: Create separate shell script with server run commands, for eg:\\n> \\tscript1.sh\\n#!/bin/bash\\ngunicorn --bind=0.0.0.0:9696 predict:app\\nAnother script with e.g. MLFlow server:\\n>\\tscript2.sh\\n#!/bin/bash\\nmlflow server -h 0.0.0.0 -p 5000 --backend-store-uri=sqlite:///mlflow.db --default-artifact-root=g3://zc-bucket/mlruns/\\nCreate a wrapper script to run above 2 scripts:\\n>\\twrapper_script.sh\\n#!/bin/bash\\n# Start the first process\\n./script1.sh &\\n# Start the second process\\n./script2.sh &\\n# Wait for any process to exit\\nwait -n\\n# Exit with status of process that exited first\\nexit $?\\nGive executable permissions to all scripts:\\nchmod +x *.sh\\nNow we can define last line of Dockerfile as:\\n> \\tDockerfile\\nCMD ./wrapper_script.sh\\nDont forget to expose all ports defined by services!',\n",
              "   'section': 'Module 4: Deployment',\n",
              "   'question': 'Running multiple services in a Docker container',\n",
              "   'course': 'mlops-zoomcamp'}},\n",
              " {'_index': 'course-questions',\n",
              "  '_id': 'R0lwV5ABIKU734pqp5-4',\n",
              "  '_score': 51.04628,\n",
              "  '_source': {'text': \"You can copy files from your local machine into a Docker container using the docker cp command. Here's how to do it:\\nTo copy a file or directory from your local machine into a running Docker container, you can use the `docker cp command`. The basic syntax is as follows:\\ndocker cp /path/to/local/file_or_directory container_id:/path/in/container\\nHrithik Kumar Advani\",\n",
              "   'section': '5. Deploying Machine Learning Models',\n",
              "   'question': 'How do I copy files from my local machine to docker container?',\n",
              "   'course': 'machine-learning-zoomcamp'}},\n",
              " {'_index': 'course-questions',\n",
              "  '_id': 'SElwV5ABIKU734pqp5_q',\n",
              "  '_score': 49.938507,\n",
              "  '_source': {'text': 'You can copy files from your local machine into a Docker container using the docker cp command. Here\\'s how to do it:\\nIn the Dockerfile, you can provide the folder containing the files that you want to copy over. The basic syntax is as follows:\\nCOPY [\"src/predict.py\", \"models/xgb_model.bin\", \"./\"]\\t\\t\\t\\t\\t\\t\\t\\t\\t\\t\\tGopakumar Gopinathan',\n",
              "   'section': '5. Deploying Machine Learning Models',\n",
              "   'question': 'How do I copy files from a different folder into docker container’s working directory?',\n",
              "   'course': 'machine-learning-zoomcamp'}}]"
            ]
          },
          "execution_count": 11,
          "metadata": {},
          "output_type": "execute_result"
        }
      ],
      "source": [
        "response['hits']['hits']"
      ]
    },
    {
      "cell_type": "code",
      "execution_count": 12,
      "metadata": {},
      "outputs": [
        {
          "data": {
            "text/plain": [
              "{'_index': 'course-questions',\n",
              " '_id': 'KElwV5ABIKU734pqoZ-q',\n",
              " '_score': 84.050095,\n",
              " '_source': {'text': 'Launch the container image in interactive mode and overriding the entrypoint, so that it starts a bash command.\\ndocker run -it --entrypoint bash <image>\\nIf the container is already running, execute a command in the specific container:\\ndocker ps (find the container-id)\\ndocker exec -it <container-id> bash\\n(Marcos MJD)',\n",
              "  'section': '5. Deploying Machine Learning Models',\n",
              "  'question': 'How do I debug a docker container?',\n",
              "  'course': 'machine-learning-zoomcamp'}}"
            ]
          },
          "execution_count": 12,
          "metadata": {},
          "output_type": "execute_result"
        }
      ],
      "source": [
        "# Answer\n",
        "response['hits']['hits'][0]"
      ]
    },
    {
      "cell_type": "markdown",
      "metadata": {},
      "source": [
        "# Q4. Filtering\n",
        "Now let's only limit the questions to `machine-learning-zoomcamp`.\n",
        "\n",
        "Return 3 results. What's the 3rd question returned by the search engine?\n",
        "\n",
        "- How do I debug a docker container?\n",
        "- How do I copy files from a different folder into docker container’s working directory?\n",
        "- How do Lambda container images work?\n",
        "- How can I annotate a graph?"
      ]
    },
    {
      "cell_type": "code",
      "execution_count": 13,
      "metadata": {},
      "outputs": [],
      "source": [
        "search_query_q4 = {\n",
        "        \"size\": 3,\n",
        "        \"query\": {\n",
        "            \"bool\": {\n",
        "                \"must\": {\n",
        "                    \"multi_match\": {\n",
        "                        \"query\": query,\n",
        "                        \"fields\": [\"question^4\", \"text\"],\n",
        "                        \"type\": \"best_fields\"\n",
        "                    }\n",
        "                },\n",
        "                \"filter\": {\n",
        "                    \"term\": {\n",
        "                        \"course\": \"machine-learning-zoomcamp\"\n",
        "                    }\n",
        "                }\n",
        "            }\n",
        "        }\n",
        "    }\n",
        "\n",
        "response = es_client.search(index=index_name, body=search_query_q4)"
      ]
    },
    {
      "cell_type": "code",
      "execution_count": 14,
      "metadata": {},
      "outputs": [
        {
          "data": {
            "text/plain": [
              "{'_index': 'course-questions',\n",
              " '_id': 'SElwV5ABIKU734pqp5_q',\n",
              " '_score': 49.938507,\n",
              " '_source': {'text': 'You can copy files from your local machine into a Docker container using the docker cp command. Here\\'s how to do it:\\nIn the Dockerfile, you can provide the folder containing the files that you want to copy over. The basic syntax is as follows:\\nCOPY [\"src/predict.py\", \"models/xgb_model.bin\", \"./\"]\\t\\t\\t\\t\\t\\t\\t\\t\\t\\t\\tGopakumar Gopinathan',\n",
              "  'section': '5. Deploying Machine Learning Models',\n",
              "  'question': 'How do I copy files from a different folder into docker container’s working directory?',\n",
              "  'course': 'machine-learning-zoomcamp'}}"
            ]
          },
          "execution_count": 14,
          "metadata": {},
          "output_type": "execute_result"
        }
      ],
      "source": [
        "# Answer\n",
        "response['hits']['hits'][2]"
      ]
    },
    {
      "cell_type": "markdown",
      "metadata": {},
      "source": [
        "# Q5. Building a prompt\n",
        "Now we're ready to build a prompt to send to an LLM.\n",
        "\n",
        "Take the records returned from Elasticsearch in Q4 and use this template to build the context. Separate context entries by two linebreaks `(\\n\\n)`\n",
        "\n",
        "```\n",
        "context_template = \"\"\"\n",
        "Q: {question}\n",
        "A: {text}\n",
        "\"\"\".strip()\n",
        "\n",
        "```\n"
      ]
    },
    {
      "cell_type": "code",
      "execution_count": 15,
      "metadata": {},
      "outputs": [],
      "source": [
        "# Answer Q5.1: Context template\n",
        "context_template = \"\"\"\n",
        "Q: {question}\n",
        "A: {text}\n",
        "\"\"\".strip()"
      ]
    },
    {
      "cell_type": "code",
      "execution_count": 16,
      "metadata": {},
      "outputs": [
        {
          "name": "stdout",
          "output_type": "stream",
          "text": [
            "Q: How do I debug a docker container?\n",
            "A: Launch the container image in interactive mode and overriding the entrypoint, so that it starts a bash command.\n",
            "docker run -it --entrypoint bash <image>\n",
            "If the container is already running, execute a command in the specific container:\n",
            "docker ps (find the container-id)\n",
            "docker exec -it <container-id> bash\n",
            "(Marcos MJD)\n",
            "\n",
            "Q: How do I copy files from my local machine to docker container?\n",
            "A: You can copy files from your local machine into a Docker container using the docker cp command. Here's how to do it:\n",
            "To copy a file or directory from your local machine into a running Docker container, you can use the `docker cp command`. The basic syntax is as follows:\n",
            "docker cp /path/to/local/file_or_directory container_id:/path/in/container\n",
            "Hrithik Kumar Advani\n",
            "\n",
            "Q: How do I copy files from a different folder into docker container’s working directory?\n",
            "A: You can copy files from your local machine into a Docker container using the docker cp command. Here's how to do it:\n",
            "In the Dockerfile, you can provide the folder containing the files that you want to copy over. The basic syntax is as follows:\n",
            "COPY [\"src/predict.py\", \"models/xgb_model.bin\", \"./\"]\t\t\t\t\t\t\t\t\t\t\tGopakumar Gopinathan\n",
            "\n",
            "\n"
          ]
        }
      ],
      "source": [
        "context = \"\"\n",
        "for doc in response['hits']['hits']:\n",
        "    context = context + context_template.format(question=doc['_source']['question'],text=doc['_source']['text']).strip() + \"\\n\\n\"\n",
        "\n",
        "print(context)"
      ]
    },
    {
      "cell_type": "markdown",
      "metadata": {},
      "source": [
        "Now use the context you just created along with the \"How do I execute a command in a running docker container?\" question to construct a prompt using the template below:\n",
        "```\n",
        "prompt_template = \"\"\"\n",
        "You're a course teaching assistant. Answer the QUESTION based on the CONTEXT from the FAQ database.\n",
        "Use only the facts from the CONTEXT when answering the QUESTION.\n",
        "\n",
        "QUESTION: {question}\n",
        "\n",
        "CONTEXT:\n",
        "{context}\n",
        "\"\"\".strip()\n",
        "```"
      ]
    },
    {
      "cell_type": "code",
      "execution_count": 17,
      "metadata": {},
      "outputs": [],
      "source": [
        "# Answer Q5.2: Prompt template\n",
        "prompt_template = \"\"\"\n",
        "You're a course teaching assistant. Answer the QUESTION based on the CONTEXT from the FAQ database.\n",
        "Use only the facts from the CONTEXT when answering the QUESTION.\n",
        "\n",
        "QUESTION: {question}\n",
        "\n",
        "CONTEXT:\n",
        "{context}\n",
        "\"\"\".strip()\n"
      ]
    },
    {
      "cell_type": "code",
      "execution_count": 18,
      "metadata": {},
      "outputs": [
        {
          "name": "stdout",
          "output_type": "stream",
          "text": [
            "You're a course teaching assistant. Answer the QUESTION based on the CONTEXT from the FAQ database.\n",
            "Use only the facts from the CONTEXT when answering the QUESTION.\n",
            "\n",
            "QUESTION: How do I execute a command in a running docker container?\n",
            "\n",
            "CONTEXT:\n",
            "Q: How do I debug a docker container?\n",
            "A: Launch the container image in interactive mode and overriding the entrypoint, so that it starts a bash command.\n",
            "docker run -it --entrypoint bash <image>\n",
            "If the container is already running, execute a command in the specific container:\n",
            "docker ps (find the container-id)\n",
            "docker exec -it <container-id> bash\n",
            "(Marcos MJD)\n",
            "\n",
            "Q: How do I copy files from my local machine to docker container?\n",
            "A: You can copy files from your local machine into a Docker container using the docker cp command. Here's how to do it:\n",
            "To copy a file or directory from your local machine into a running Docker container, you can use the `docker cp command`. The basic syntax is as follows:\n",
            "docker cp /path/to/local/file_or_directory container_id:/path/in/container\n",
            "Hrithik Kumar Advani\n",
            "\n",
            "Q: How do I copy files from a different folder into docker container’s working directory?\n",
            "A: You can copy files from your local machine into a Docker container using the docker cp command. Here's how to do it:\n",
            "In the Dockerfile, you can provide the folder containing the files that you want to copy over. The basic syntax is as follows:\n",
            "COPY [\"src/predict.py\", \"models/xgb_model.bin\", \"./\"]\t\t\t\t\t\t\t\t\t\t\tGopakumar Gopinathan\n"
          ]
        }
      ],
      "source": [
        "promt = \"\"\n",
        "prompt = prompt_template.format(question=query, context=context).strip()\n",
        "print(prompt)"
      ]
    },
    {
      "cell_type": "markdown",
      "metadata": {},
      "source": [
        "What's the length of the resulting prompt? (use the len function)\n",
        "\n",
        "- 962\n",
        "- 1462\n",
        "- 1962\n",
        "- 2462"
      ]
    },
    {
      "cell_type": "code",
      "execution_count": 19,
      "metadata": {},
      "outputs": [
        {
          "data": {
            "text/plain": [
              "1462"
            ]
          },
          "execution_count": 19,
          "metadata": {},
          "output_type": "execute_result"
        }
      ],
      "source": [
        "len(prompt)"
      ]
    },
    {
      "cell_type": "markdown",
      "metadata": {},
      "source": [
        "# Q6. Tokens\n",
        "When we use the OpenAI Platform, we're charged by the number of tokens we send in our prompt and receive in the response.\n",
        "\n",
        "The OpenAI python package uses `tiktoken` for tokenization:"
      ]
    },
    {
      "cell_type": "code",
      "execution_count": 20,
      "metadata": {},
      "outputs": [
        {
          "name": "stdout",
          "output_type": "stream",
          "text": [
            "Requirement already satisfied: tiktoken in d:\\courses\\llm-zoomcamp\\venv\\lib\\site-packages (0.7.0)\n",
            "Requirement already satisfied: regex>=2022.1.18 in d:\\courses\\llm-zoomcamp\\venv\\lib\\site-packages (from tiktoken) (2024.5.15)\n",
            "Requirement already satisfied: requests>=2.26.0 in d:\\courses\\llm-zoomcamp\\venv\\lib\\site-packages (from tiktoken) (2.32.3)\n",
            "Requirement already satisfied: charset-normalizer<4,>=2 in d:\\courses\\llm-zoomcamp\\venv\\lib\\site-packages (from requests>=2.26.0->tiktoken) (3.3.2)\n",
            "Requirement already satisfied: idna<4,>=2.5 in d:\\courses\\llm-zoomcamp\\venv\\lib\\site-packages (from requests>=2.26.0->tiktoken) (3.7)\n",
            "Requirement already satisfied: urllib3<3,>=1.21.1 in d:\\courses\\llm-zoomcamp\\venv\\lib\\site-packages (from requests>=2.26.0->tiktoken) (2.2.2)\n",
            "Requirement already satisfied: certifi>=2017.4.17 in d:\\courses\\llm-zoomcamp\\venv\\lib\\site-packages (from requests>=2.26.0->tiktoken) (2024.6.2)\n"
          ]
        },
        {
          "name": "stderr",
          "output_type": "stream",
          "text": [
            "\n",
            "[notice] A new release of pip is available: 24.0 -> 24.1\n",
            "[notice] To update, run: python.exe -m pip install --upgrade pip\n"
          ]
        }
      ],
      "source": [
        "!pip install tiktoken"
      ]
    },
    {
      "cell_type": "markdown",
      "metadata": {},
      "source": [
        "Let's calculate the number of tokens in our query:"
      ]
    },
    {
      "cell_type": "code",
      "execution_count": 21,
      "metadata": {},
      "outputs": [],
      "source": [
        "import tiktoken\n",
        "encoding = tiktoken.encoding_for_model(\"gpt-4o\")"
      ]
    },
    {
      "cell_type": "markdown",
      "metadata": {},
      "source": [
        "Use the `encode` function. How many tokens does our prompt have?\n",
        "\n",
        "- 122\n",
        "- 222\n",
        "- 322\n",
        "- 422\n",
        "\n",
        "Note: to decode back a token into a word, you can use the `decode_single_token_bytes` function:\n",
        "\n",
        "`encoding.decode_single_token_bytes(63842)`"
      ]
    },
    {
      "cell_type": "code",
      "execution_count": 22,
      "metadata": {},
      "outputs": [
        {
          "data": {
            "text/plain": [
              "322"
            ]
          },
          "execution_count": 22,
          "metadata": {},
          "output_type": "execute_result"
        }
      ],
      "source": [
        "len(encoding.encode(prompt))"
      ]
    }
  ],
  "metadata": {
    "colab": {
      "provenance": []
    },
    "kernelspec": {
      "display_name": "Python 3",
      "name": "python3"
    },
    "language_info": {
      "codemirror_mode": {
        "name": "ipython",
        "version": 3
      },
      "file_extension": ".py",
      "mimetype": "text/x-python",
      "name": "python",
      "nbconvert_exporter": "python",
      "pygments_lexer": "ipython3",
      "version": "3.12.4"
    }
  },
  "nbformat": 4,
  "nbformat_minor": 0
}
